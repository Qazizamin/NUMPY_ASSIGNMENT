{
 "cells": [
  {
   "cell_type": "markdown",
   "metadata": {},
   "source": [
    "# NUMPY ASSIGNMENT\n",
    "## QAZI ZAMIN\n",
    "## PWSKILLS"
   ]
  },
  {
   "cell_type": "markdown",
   "metadata": {},
   "source": [
    "## Theoretical Questions:"
   ]
  },
  {
   "cell_type": "markdown",
   "metadata": {},
   "source": [
    "### Q1) Explain the purpose and advantages of NumPy in scientific computing and data analysis. How does it enhance Python's capabilities for numerical operations?"
   ]
  },
  {
   "cell_type": "markdown",
   "metadata": {},
   "source": [
    "- NumPy (Numerical Python) is a fundamental library in Python for numerical computing. It provides support for large, multi-dimensional arrays and matrices, along with a collection of mathematical functions to operate on these arrays efficiently.\n",
    "\n",
    "- Purpose of NumPy:\n",
    "\n",
    "- Efficient Storage and Operations on Arrays: NumPy provides an efficient way to store and manipulate large arrays of numeric data. These arrays can be one-dimensional, multi-dimensional, or even higher-dimensional, which is crucial for handling complex data structures like matrices in scientific computations.\n",
    "\n",
    "- Mathematical Functions and Operations: NumPy offers a wide range of mathematical functions that operate element-wise on arrays, making it straightforward to perform complex operations such as trigonometric, exponential, logarithmic, and statistical functions.\n",
    "\n",
    "- Integration with Existing Libraries: NumPy integrates well with other libraries and tools used in scientific computing and data analysis, such as SciPy (for advanced mathematical functions), Matplotlib (for plotting), Pandas (for data manipulation), and more. This ecosystem provides a comprehensive toolkit for scientific computing tasks.\n",
    "\n",
    "- Performance and Speed: NumPy's operations are implemented in C, which makes them faster compared to Python's built-in operations. It uses efficient algorithms and optimized memory access patterns to ensure high performance, especially when working with large datasets.\n",
    "\n",
    "- Advantages of NumPy:\n",
    "\n",
    "- Ease of Use and Familiar Syntax: NumPy provides a simple and intuitive interface to work with arrays and matrices, leveraging Python's syntax. It allows users to write concise and readable code for numerical operations without sacrificing performance.\n",
    "\n",
    "- Broadcasting: NumPy's broadcasting capability allows operations on arrays of different shapes, which simplifies code and eliminates the need for explicit looping over array elements. This feature enhances productivity and code clarity.\n",
    "\n",
    "- Wide Adoption and Community Support: NumPy is widely adopted across the scientific computing and data analysis communities. It has a large user base and active community support, ensuring ongoing development, bug fixes, and improvements.\n",
    "\n",
    "- Interoperability: NumPy arrays can seamlessly interface with libraries and languages like C, C++, and Fortran. This interoperability allows integration of legacy code and efficient execution of numerical routines written in other languages.\n",
    "\n",
    "- How does it enhance Python's capabilities for numerical operations?\n",
    "\n",
    "- NumPy enhances Python's capabilities for numerical operations by providing efficient data structures, mathematical functions, and a robust ecosystem that supports complex scientific computing tasks. Its performance optimizations, ease of use, and integration with other libraries make it a cornerstone of modern data analysis and scientific computing in Python."
   ]
  },
  {
   "cell_type": "markdown",
   "metadata": {},
   "source": [
    "### Q2) Compare and contrast np.mean() and np.average() functions in NumPy. When would you use one over the other?"
   ]
  },
  {
   "cell_type": "markdown",
   "metadata": {},
   "source": [
    "- The np.mean() and np.average() functions in NumPy both compute the average or mean of elements in an array or along a specified axis. While they can achieve similar results, they have differences in functionality that determine when one might be preferred over the other.\n",
    "\n",
    "- np.mean(): SYNTAX >> np.mean(a, axis=None, dtype=None, ...)\n",
    "- Computes the arithmetic mean (average) of the array elements. also, Optionally, you can specify an axis along which to compute the mean. If axis=None, it computes the mean of the flattened array.\n",
    "- Use np.mean() when you simply want to compute the average of array elements or along specific axes without weighting or additional parameters.\n",
    "\n",
    "- np.average(): SYNTAX >> np.average(a, axis=None, weights=None, returned=False)\n",
    "- Computes the weighted average of array elements , Supports optional weights parameter where you can specify weights for each element.\n",
    "- Use np.average() when you need to compute a weighted average rather than a simple arithmetic mean. This is useful when different elements in the array have different importance or contributions to the average.\n",
    "\n",
    "- Comparison:\n",
    "\n",
    "- Weighted vs. Unweighted: np.mean() computes the arithmetic mean of elements without considering any weights. while as np.average() computes the average considering weights provided by the weights parameter.\n",
    "\n",
    "- Flexibility: np.mean() is straightforward for computing the mean along specified axes or of the entire array. while as np.average() allows for weighted averaging, which can be useful in scenarios where different elements contribute differently to the average.\n",
    "\n",
    "- Performance: Both functions are efficient, but np.mean() may be slightly faster since it computes a straightforward arithmetic mean without additional calculations for weights.\n",
    "\n",
    "- When to Use Each:\n",
    "\n",
    "- Use np.mean(): When you need to compute the simple arithmetic mean of array elements or along specific axes. When there is no requirement for weighting elements differently.\n",
    "\n",
    "- Use np.average(): When you need to compute a weighted average where different elements have different contributions or importance. For scenarios where weights are specified and need to be taken into account in the average calculation.\n",
    "\n",
    "-  BELOW ARE EXAMPLES FOR EACH:"
   ]
  },
  {
   "cell_type": "code",
   "execution_count": 5,
   "metadata": {},
   "outputs": [
    {
     "name": "stdout",
     "output_type": "stream",
     "text": [
      "the mean value of the array is: 3.0\n"
     ]
    }
   ],
   "source": [
    "# NP.MEAN()\n",
    "\n",
    "import numpy as np\n",
    "\n",
    "arr = np.array([1,2,3,4,5])\n",
    "\n",
    "mean_val = np.mean(arr)\n",
    "\n",
    "print(f\"the mean value of the array is: {mean_val}\")"
   ]
  },
  {
   "cell_type": "code",
   "execution_count": 9,
   "metadata": {},
   "outputs": [
    {
     "name": "stdout",
     "output_type": "stream",
     "text": [
      "the weighted average of the array is: 3.904761904761904\n"
     ]
    }
   ],
   "source": [
    "# NP.AVERAGE()\n",
    "\n",
    "arr1 = np.array([1,2,3,4,5])\n",
    "\n",
    "weights = np.array([0.1, 0.2, 0.3, 0.7, 0.8])\n",
    "\n",
    "weighted_avg = np.average(arr1, weights=weights)\n",
    "\n",
    "print(f\"the weighted average of the array is: {weighted_avg}\")"
   ]
  },
  {
   "cell_type": "markdown",
   "metadata": {},
   "source": [
    "### Q3) Describe the methods for reversing a NumPy array along different axes. Provide examples for 1D and 2D arrays."
   ]
  },
  {
   "cell_type": "markdown",
   "metadata": {},
   "source": [
    "- In NumPy, there are several methods to reverse arrays along different axes, depending on whether the array is 1-dimensional or multi-dimensional.\n",
    "\n",
    "- Reversing a 1D NumPy Array: For a 1D array, you can reverse the order of elements using slicing.\n",
    "\n",
    "-  Reversing a 2D NumPy Array: For 2D arrays, you can reverse along different axes using slicing and the flip() function.\n",
    "\n",
    "- BELOW ARE THE EXAMPLES TO ILLUSTRATE THE FOLLOWING:"
   ]
  },
  {
   "cell_type": "code",
   "execution_count": 10,
   "metadata": {},
   "outputs": [
    {
     "data": {
      "text/plain": [
       "array([1, 2, 3, 4, 5])"
      ]
     },
     "execution_count": 10,
     "metadata": {},
     "output_type": "execute_result"
    }
   ],
   "source": [
    "# 1-D ARRAY\n",
    "\n",
    "# first we will define a 1-D array\n",
    "\n",
    "arr1d = np.array([1,2,3,4,5])\n",
    "arr1d"
   ]
  },
  {
   "cell_type": "code",
   "execution_count": 11,
   "metadata": {},
   "outputs": [
    {
     "data": {
      "text/plain": [
       "array([5, 4, 3, 2, 1])"
      ]
     },
     "execution_count": 11,
     "metadata": {},
     "output_type": "execute_result"
    }
   ],
   "source": [
    "# now lets reverse this 1-D array using slicing:\n",
    "\n",
    "reversed_arr1d = arr1d[::-1]\n",
    "\n",
    "reversed_arr1d"
   ]
  },
  {
   "cell_type": "code",
   "execution_count": 12,
   "metadata": {},
   "outputs": [
    {
     "data": {
      "text/plain": [
       "array([[1, 2, 3],\n",
       "       [4, 5, 6],\n",
       "       [7, 8, 9]])"
      ]
     },
     "execution_count": 12,
     "metadata": {},
     "output_type": "execute_result"
    }
   ],
   "source": [
    "# 2-D ARRAY\n",
    "\n",
    "# defining 2-D array\n",
    "\n",
    "arr2d = np.array([[1,2,3],\n",
    "                  [4,5,6],\n",
    "                  [7,8,9]])\n",
    "\n",
    "arr2d"
   ]
  },
  {
   "cell_type": "code",
   "execution_count": 15,
   "metadata": {},
   "outputs": [
    {
     "data": {
      "text/plain": [
       "array([[7, 8, 9],\n",
       "       [4, 5, 6],\n",
       "       [1, 2, 3]])"
      ]
     },
     "execution_count": 15,
     "metadata": {},
     "output_type": "execute_result"
    }
   ],
   "source": [
    "# now let's reverse 2-D array along axis = 0:\n",
    "\n",
    "reversed_arr2d = np.flip(arr2d, axis=0)\n",
    "\n",
    "reversed_arr2d"
   ]
  },
  {
   "cell_type": "code",
   "execution_count": 16,
   "metadata": {},
   "outputs": [
    {
     "data": {
      "text/plain": [
       "array([[3, 2, 1],\n",
       "       [6, 5, 4],\n",
       "       [9, 8, 7]])"
      ]
     },
     "execution_count": 16,
     "metadata": {},
     "output_type": "execute_result"
    }
   ],
   "source": [
    "# now let's reverse 2-D array along axis = 1:\n",
    "\n",
    "reversed_arr2d = np.flip(arr2d, axis=1)\n",
    "\n",
    "reversed_arr2d"
   ]
  },
  {
   "cell_type": "markdown",
   "metadata": {},
   "source": [
    "### Q4) How can you determine the data type of elements in a NumPy array? Discuss the importance of data types in memory management and performance."
   ]
  },
  {
   "cell_type": "markdown",
   "metadata": {},
   "source": [
    "- In NumPy, you can determine the data type (dtype) of elements in an array using the dtype attribute of the array object. Understanding and managing data types is crucial in NumPy for efficient memory usage, performance optimization, and ensuring correct operations on array elements.\n",
    "\n",
    "- Determining Data Type in NumPy: To determine the data type of elements in a NumPy array, you can access the dtype attribute.\n",
    "\n",
    "- Importance of Data Types in Memory Management and Performance:\n",
    "\n",
    "- Memory Usage:\n",
    "- Size Efficiency: Different data types have different sizes in memory. For example, int64 uses 64 bits (or 8 bytes), while float64 also uses 64 bits. Choosing appropriate data types can significantly impact memory usage, especially when dealing with large datasets.\n",
    "- Alignment: Data types also affect memory alignment and padding, which can impact memory access speed and overall memory usage efficiency.\n",
    "\n",
    "- Performance Optimization:\n",
    "- Computation Speed: Operations on arrays with smaller data types (e.g., float32 vs. float64) can be faster due to reduced memory bandwidth requirements and more efficient CPU cache utilization.\n",
    "- Vectorization: NumPy operations are optimized for specific data types. Using the correct data type ensures that NumPy can leverage hardware-level optimizations (e.g., SIMD instructions) for faster computation.\n",
    "\n",
    "- Data Integrity:\n",
    "- Precision: Choosing appropriate data types ensures the accuracy and precision of calculations. For example, using float32 may sacrifice precision compared to float64, but it can save memory and improve computational efficiency in certain applications.\n",
    "\n",
    "\n",
    "- Understanding and managing data types in NumPy arrays is essential for optimizing memory usage, improving computational performance, and ensuring data integrity. \n",
    "\n",
    "\n",
    "- Below is an example to determine datatype of elements in a numpy array:"
   ]
  },
  {
   "cell_type": "code",
   "execution_count": 17,
   "metadata": {},
   "outputs": [
    {
     "data": {
      "text/plain": [
       "dtype('int64')"
      ]
     },
     "execution_count": 17,
     "metadata": {},
     "output_type": "execute_result"
    }
   ],
   "source": [
    "# determining int data type:\n",
    "\n",
    "arr1 = np.array([1,2,3])\n",
    "\n",
    "arr1.dtype"
   ]
  },
  {
   "cell_type": "code",
   "execution_count": 18,
   "metadata": {},
   "outputs": [
    {
     "data": {
      "text/plain": [
       "dtype('bool')"
      ]
     },
     "execution_count": 18,
     "metadata": {},
     "output_type": "execute_result"
    }
   ],
   "source": [
    "# determining boolean data type:\n",
    "\n",
    "arr2 = np.array([True,False])\n",
    "\n",
    "arr2.dtype"
   ]
  },
  {
   "cell_type": "code",
   "execution_count": 19,
   "metadata": {},
   "outputs": [
    {
     "data": {
      "text/plain": [
       "dtype('<U6')"
      ]
     },
     "execution_count": 19,
     "metadata": {},
     "output_type": "execute_result"
    }
   ],
   "source": [
    "# determining string data type:\n",
    "\n",
    "arr3 = np.array([\"data\",\"course\"])\n",
    "\n",
    "arr3.dtype"
   ]
  },
  {
   "cell_type": "markdown",
   "metadata": {},
   "source": [
    "### Q5) Define ndarrays in NumPy and explain their key features. How do they differ from standard Python lists?"
   ]
  },
  {
   "cell_type": "markdown",
   "metadata": {},
   "source": [
    "- ndarray (n-dimensional array) is a fundamental data structure used for storing and manipulating multi-dimensional data efficiently. ndarray objects are homogeneous collections of elements (usually numbers) of the same type, arranged in a grid indexed by tuples of non-negative integers.\n",
    "\n",
    "- Standard Python lists are versatile and widely used for general-purpose data storage and manipulation. They support heterogeneous data types, dynamic resizing, mutable operations, nesting, and iterative access. However, for numerical computations, data analysis, and scientific computing tasks, NumPy ndarray offers significant advantages in terms of efficiency, performance, and specialized functionalities tailored for such tasks.\n",
    "\n",
    "- Key Features of ndarray in NumPy:\n",
    "- Homogeneous Data Type: All elements in an ndarray must have the same data type (dtype). This ensures efficient storage and operations.\n",
    "- Multi-dimensional: ndarray can have multiple dimensions (1D, 2D, 3D, etc.), allowing storage of data in grids or matrices.\n",
    "- Efficient Memory Management: ndarray objects are stored in contiguous blocks of memory, allowing efficient access and manipulation of elements.\n",
    "- Vectorized Operations: NumPy supports vectorized operations, meaning that operations on ndarray elements can be applied to entire arrays at once without the need for explicit looping. This results in faster execution time.\n",
    "- Rich Set of Functions: NumPy provides a wide range of mathematical functions and operations optimized for ndarray objects, such as element-wise operations, linear algebra, statistical functions, and more. These functions are implemented in compiled C code, enhancing performance.\n",
    "- Broadcasting: NumPy arrays support broadcasting, which allows arithmetic operations between arrays of different shapes and sizes. Broadcasting rules facilitate operations even when array dimensions do not match, by implicitly replicating smaller arrays across larger arrays.\n",
    "\n",
    "- ndarrays differences from Standard Python Lists:\n",
    "- Data Type Flexibility: Python lists can store elements of different types (int, float, str, etc.) in the same list, while NumPy ndarray requires all elements to have the same data type (dtype).\n",
    "- Performance: NumPy ndarray operations are faster and more memory efficient compared to Python lists, especially for large datasets, due to optimized storage and vectorized operations.\n",
    "- Multi-dimensionality: NumPy ndarray supports multi-dimensional arrays with consistent dimensions across all axes, whereas Python lists can only be effectively used for 1D structures or nested lists for higher dimensions.\n",
    "- Syntax and Operations: NumPy provides a different syntax and set of operations compared to Python lists. NumPy encourages vectorized operations and functions that operate on entire arrays at once, while Python lists typically require iteration or list comprehensions for similar operations.\n",
    "\n",
    "\n",
    "- BELOW ARE EXAMPLES OF ndarray and a standard python list:"
   ]
  },
  {
   "cell_type": "code",
   "execution_count": 20,
   "metadata": {},
   "outputs": [
    {
     "data": {
      "text/plain": [
       "array([[[1, 2, 3, 4]]])"
      ]
     },
     "execution_count": 20,
     "metadata": {},
     "output_type": "execute_result"
    }
   ],
   "source": [
    "# ndarray, we will create a 3-D array for example:\n",
    "\n",
    "arr1 = np.array([[[1,2,3,4]]])\n",
    "arr1"
   ]
  },
  {
   "cell_type": "code",
   "execution_count": 21,
   "metadata": {},
   "outputs": [
    {
     "data": {
      "text/plain": [
       "3"
      ]
     },
     "execution_count": 21,
     "metadata": {},
     "output_type": "execute_result"
    }
   ],
   "source": [
    "arr1.ndim   # checking dimensions"
   ]
  },
  {
   "cell_type": "code",
   "execution_count": 22,
   "metadata": {},
   "outputs": [
    {
     "data": {
      "text/plain": [
       "[1, 2, 3.3, (4+6j), 'hell', True]"
      ]
     },
     "execution_count": 22,
     "metadata": {},
     "output_type": "execute_result"
    }
   ],
   "source": [
    "# standard python list\n",
    "\n",
    "list1 = [1,2,3.3,4+6j,\"hell\",True]\n",
    "list1"
   ]
  },
  {
   "cell_type": "markdown",
   "metadata": {},
   "source": [
    "### Q6) Analyze the performance benefits of NumPy arrays over Python lists for large-scale numerical operations."
   ]
  },
  {
   "cell_type": "markdown",
   "metadata": {},
   "source": [
    "- NumPy arrays offer significant performance benefits over Python lists for large-scale numerical operations due to several key reasons:\n",
    "- Contiguous Memory Allocation: NumPy arrays are stored in contiguous memory blocks, unlike Python lists which are arrays of pointers to objects scattered across memory. \n",
    "- Vectorized Operations: NumPy supports vectorized operations, which means that operations are applied to whole arrays rather than individual elements. This is accomplished through broadcasting and is much faster than iterating over elements in Python lists. \n",
    "- Optimized C and Fortran Code: NumPy operations are implemented in C or Fortran, which are highly optimized languages for numerical computing. These implementations are carefully tuned for performance, often utilizing specialized libraries like BLAS (Basic Linear Algebra Subprograms) and LAPACK (Linear Algebra PACKage) for efficient computations.\n",
    "- Efficient Indexing: NumPy provides efficient indexing and slicing capabilities, which are crucial for large-scale data manipulations. Accessing elements in a NumPy array is faster than in a Python list because of the direct access to memory locations.\n",
    "- Memory Efficiency: NumPy arrays are more memory efficient compared to Python lists for large datasets. This efficiency comes from the fixed type of elements in a NumPy array (usually homogeneous), which allows for more compact storage and faster access.\n",
    "- Parallelism: NumPy can leverage parallel processing capabilities of modern CPUs ...\n",
    "\n",
    "- To illustrate the performance difference, consider the following example:"
   ]
  },
  {
   "cell_type": "code",
   "execution_count": 24,
   "metadata": {},
   "outputs": [
    {
     "name": "stdout",
     "output_type": "stream",
     "text": [
      "Time taken with python lists: 0.18056058883666992 seconds\n"
     ]
    }
   ],
   "source": [
    "# PYTHON LIST APPROACH:\n",
    "\n",
    "import time\n",
    "\n",
    "size = 10**6                     # creating large lists\n",
    "\n",
    "list1 = list(range(size))\n",
    "list2 = list(range(size))\n",
    "\n",
    "start_time = time.time()      # Adding corresponding elements using a for loop\n",
    "result = []\n",
    "\n",
    "for i in range(size):\n",
    "    result.append(list1[i] + list2[i])\n",
    "end_time = time.time()\n",
    "\n",
    "print(f\"Time taken with python lists: {end_time - start_time} seconds\")"
   ]
  },
  {
   "cell_type": "code",
   "execution_count": 25,
   "metadata": {},
   "outputs": [
    {
     "name": "stdout",
     "output_type": "stream",
     "text": [
      "Time taken with NumPy arrays: 0.04010200500488281 seconds\n"
     ]
    }
   ],
   "source": [
    "# SAME THING USING NUMPY ARRAY APPROACH:\n",
    "\n",
    "import numpy as np\n",
    "import time\n",
    "\n",
    "size = 10**6           # creating large array\n",
    "\n",
    "arr1 = np.arange(size)\n",
    "arr2 = np.arange(size)\n",
    "\n",
    "# Adding corresponding elements using NumPy vectorized operation\n",
    "\n",
    "start_time = time.time()\n",
    "result = arr1 + arr2\n",
    "end_time = time.time()\n",
    "\n",
    "print(f\"Time taken with NumPy arrays: {end_time - start_time} seconds\")"
   ]
  },
  {
   "cell_type": "markdown",
   "metadata": {},
   "source": [
    "### Q7) Compare vstack() and hstack() functions in NumPy. Provide examples demonstrating their usage and output."
   ]
  },
  {
   "cell_type": "markdown",
   "metadata": {},
   "source": [
    "- NumPy provides two important functions for combining arrays: vstack() and hstack(). These functions allow you to stack arrays vertically (vstack()) or horizontally (hstack()). \n",
    "\n",
    "### CPMPARISON:\n",
    "\n",
    "- np.vstack():\n",
    "- Functionality: Stacks arrays vertically (row-wise).\n",
    "- Usage: Concatenates arrays along the first axis (rows).\n",
    "- Input: Expects arrays with the same number of columns.\n",
    "\n",
    "- np.hstack():\n",
    "- Functionality: Stacks arrays horizontally (column-wise).\n",
    "- Usage: Concatenates arrays along the second axis (columns).\n",
    "- Input: Expects arrays with the same number of rows.\n",
    "\n",
    "### DIMENSIONALITY:\n",
    "\n",
    "- np.vstack(): Increases the number of rows (vertical stacking).\n",
    "- np.hstack(): Increases the number of columns (horizontal stacking).\n",
    "\n",
    "### INPUT REQUIREMENTS:\n",
    "\n",
    "- np.vstack(): Requires arrays to have the same number of columns.\n",
    "- np.hstack(): Requires arrays to have the same number of rows.\n",
    "\n",
    "\n",
    "\n",
    "- BELOW ARE THE EXAMPLES TO DEMONSTRATE THEIR USE AND OUTPUT:"
   ]
  },
  {
   "cell_type": "code",
   "execution_count": 26,
   "metadata": {},
   "outputs": [
    {
     "data": {
      "text/plain": [
       "array([[ 1,  2,  3],\n",
       "       [ 4,  5,  6],\n",
       "       [ 7,  8,  9],\n",
       "       [10, 11, 12]])"
      ]
     },
     "execution_count": 26,
     "metadata": {},
     "output_type": "execute_result"
    }
   ],
   "source": [
    "# NP.VSTACK():\n",
    "\n",
    "import numpy as np\n",
    "\n",
    "arr1 = np.array([[1,2,3],\n",
    "                 [4,5,6]])\n",
    "\n",
    "arr2 = np.array([[7,8,9],\n",
    "                 [10,11,12]])\n",
    "\n",
    "# vertical stacking\n",
    "\n",
    "result_vstack = np.vstack((arr1, arr2))\n",
    "\n",
    "result_vstack"
   ]
  },
  {
   "cell_type": "code",
   "execution_count": 27,
   "metadata": {},
   "outputs": [
    {
     "data": {
      "text/plain": [
       "array([[ 1,  2,  3,  7,  8,  9],\n",
       "       [ 4,  5,  6, 10, 11, 12]])"
      ]
     },
     "execution_count": 27,
     "metadata": {},
     "output_type": "execute_result"
    }
   ],
   "source": [
    "# NP.HSTACK():\n",
    "\n",
    "import numpy as np\n",
    "\n",
    "arr1 = np.array([[1,2,3],\n",
    "                 [4,5,6]])\n",
    "\n",
    "arr2 = np.array([[7,8,9],\n",
    "                 [10,11,12]])\n",
    "\n",
    "# horizontal stacking\n",
    "\n",
    "result_hstack = np.hstack((arr1, arr2))\n",
    "\n",
    "result_hstack"
   ]
  },
  {
   "cell_type": "markdown",
   "metadata": {},
   "source": [
    "### Q8) Explain the differences between fliplr() and flipud() methods in NumPy, including their effects on various array dimensions."
   ]
  },
  {
   "cell_type": "markdown",
   "metadata": {},
   "source": [
    "- The fliplr() and flipud() functions in NumPy are used to flip or reverse arrays along different axes. \n",
    "\n",
    "### DIFFERENCES:\n",
    "\n",
    "- np.fliplr():\n",
    "- Functionality: fliplr() stands for \"flip left-right\".\n",
    "- Effect: Flips the entries in each row in left-right direction. Essentially, it reverses each row of the 2D array.\n",
    "\n",
    "- np.flipud():\n",
    "- Functionality: flipud() stands for \"flip up-down\".\n",
    "- Effect: Flips the entries in each column in up-down direction. Essentially, it reverses each column of the 2D array.\n",
    "\n",
    "### DIFFERENCES AND EFFECTS ON VARIOUS ARRAY DIMENSIONS:\n",
    "\n",
    "- 1D Arrays:\n",
    "- Both fliplr() and flipud() treat 1D arrays as row vectors when applied. They will return a new array with elements reversed.\n",
    "\n",
    "- 2D Arrays:\n",
    "- fliplr(): Reverses each row. If the original array is MxN, the resulting array will be the same shape MxN.\n",
    "- flipud(): Reverses each column. If the original array is MxN, the resulting array will be the same shape MxN.\n",
    "\n",
    "- Higher-dimensional Arrays:\n",
    "- For arrays with more than two dimensions, fliplr() and flipud() will operate on the last two dimensions. They will flip along the second-last axis (axis=-2 for fliplr() and axis=-1 for flipud()).\n",
    "\n",
    "\n",
    "- BELOW IS AN EXAMPLE TO ILLUSTRATE THE USE OF fliplr() & flipud():"
   ]
  },
  {
   "cell_type": "code",
   "execution_count": 28,
   "metadata": {},
   "outputs": [
    {
     "data": {
      "text/plain": [
       "array([[3, 2, 1],\n",
       "       [6, 5, 4],\n",
       "       [9, 8, 7]])"
      ]
     },
     "execution_count": 28,
     "metadata": {},
     "output_type": "execute_result"
    }
   ],
   "source": [
    "# fliplr():\n",
    "\n",
    "import numpy as np\n",
    "\n",
    "\n",
    "arr = np.array([[1,2,3],\n",
    "                [4,5,6],\n",
    "                [7,8,9]])\n",
    "\n",
    "# now flipping this array from left to right\n",
    "\n",
    "result_fliplr = np.fliplr(arr)\n",
    "\n",
    "result_fliplr"
   ]
  },
  {
   "cell_type": "code",
   "execution_count": 29,
   "metadata": {},
   "outputs": [
    {
     "data": {
      "text/plain": [
       "array([[7, 8, 9],\n",
       "       [4, 5, 6],\n",
       "       [1, 2, 3]])"
      ]
     },
     "execution_count": 29,
     "metadata": {},
     "output_type": "execute_result"
    }
   ],
   "source": [
    "# flipud():\n",
    "\n",
    "import numpy as np\n",
    "\n",
    "arr = np.array([[1,2,3],\n",
    "                [4,5,6],\n",
    "                [7,8,9]])\n",
    "\n",
    "# now flippin this array from up to down\n",
    "\n",
    "result_flipud = np.flipud(arr)\n",
    "\n",
    "result_flipud"
   ]
  },
  {
   "cell_type": "markdown",
   "metadata": {},
   "source": [
    "### Q9) Discuss the functionality of the array_split() method in NumPy. How does it handle uneven splits?"
   ]
  },
  {
   "cell_type": "markdown",
   "metadata": {},
   "source": [
    "- The numpy.array_split() function is used to split an array into multiple sub-arrays of approximately equal size. It differs from numpy.split() in that it can handle splitting arrays into a number of sub-arrays that are not necessarily equal in size.\n",
    "\n",
    "### Functionality of numpy.array_split():\n",
    "\n",
    "- syntax >> numpy.array_split(array, indices_or_sections, axis=0)\n",
    "- array: The array to be split.\n",
    "- indices_or_sections: Either an integer indicating the number of splits or a sequence of indices where the array is split.\n",
    "- axis: Specifies the axis along which to split. Default is 0 (along rows).\n",
    "\n",
    "### Handling Uneven Splits:\n",
    "\n",
    "- When splitting an array using numpy.array_split(), the function attempts to create sub-arrays of roughly equal size. However, if the array cannot be evenly split into the specified number of sections (or at the specified indices), array_split() adjusts the sizes of the sub-arrays to ensure the array is divided correctly.\n",
    "\n",
    "- Equal Division: If the array can be divided evenly according to the number of sections or indices provided, each sub-array will have a similar size.\n",
    "- Unequal Division: If the array cannot be evenly divided: The sizes of the sub-arrays will differ, but the difference between their sizes will not exceed one.\n",
    "\n",
    "### Examples:\n",
    "- If you split a 10-element array into 3 parts, you might get sub-arrays of sizes [4, 3, 3].\n",
    "- If you split a 10-element array into 4 parts, you might get sub-arrays of sizes [3, 3, 2, 2].\n",
    "\n",
    "\n",
    "- BELOW IS THE EXAMPLE TO ILLUSTRATE THE CONCEPT OF array_split():"
   ]
  },
  {
   "cell_type": "code",
   "execution_count": 30,
   "metadata": {},
   "outputs": [
    {
     "name": "stdout",
     "output_type": "stream",
     "text": [
      "[0 1 2 3]\n",
      "[4 5 6]\n",
      "[7 8 9]\n"
     ]
    }
   ],
   "source": [
    "# splitting into 3 parts\n",
    "\n",
    "import numpy as np\n",
    "\n",
    "arr = np.arange(10)    # [0, 1, 2, 3, 4, 5, 6, 7, 8, 9]\n",
    "\n",
    "# let's split it into 3 parts\n",
    "\n",
    "parts = np.array_split(arr,3)\n",
    "\n",
    "for part in parts:\n",
    "    print(part)"
   ]
  },
  {
   "cell_type": "code",
   "execution_count": 31,
   "metadata": {},
   "outputs": [
    {
     "name": "stdout",
     "output_type": "stream",
     "text": [
      "[0 1 2]\n",
      "[3 4 5]\n",
      "[6 7]\n",
      "[8 9]\n"
     ]
    }
   ],
   "source": [
    "# splitting the same array into 4 sub-parts\n",
    "\n",
    "import numpy as np\n",
    "\n",
    "arr = np.arange(10)    # [0, 1, 2, 3, 4, 5, 6, 7, 8, 9]\n",
    "\n",
    "# let's split it into 3 parts\n",
    "\n",
    "parts = np.array_split(arr,4)\n",
    "\n",
    "for part in parts:\n",
    "    print(part)"
   ]
  },
  {
   "cell_type": "markdown",
   "metadata": {},
   "source": [
    "### Q10) Explain the concepts of vectorization and broadcasting in NumPy. How do they contribute to efficient array operations?"
   ]
  },
  {
   "cell_type": "markdown",
   "metadata": {},
   "source": [
    "- Vectorization and broadcasting are two key concepts in NumPy that significantly contribute to efficient array operations.\n",
    "\n",
    "### Vectorization:\n",
    "- Vectorization in NumPy refers to the process of applying operations element-wise on arrays, thereby eliminating the need for explicit looping in Python. This is achieved by leveraging the capabilities of NumPy arrays, which are designed to handle operations in bulk.\n",
    "- Vectorization significantly improves performance because the underlying operations are executed in compiled C code, taking advantage of CPU optimizations and avoiding the overhead of Python interpreter.\n",
    "\n",
    "### Broadcasting:\n",
    "- Broadcasting is a mechanism in NumPy that allows arrays of different shapes to be combined together for arithmetic operations. The broadcasting rule defines how arrays with different shapes can still be used together without explicitly reshaping them.\n",
    "- Broadcasting allows NumPy to efficiently use memory and avoid unnecessary duplication of data while performing operations. It's particularly useful when dealing with arrays of different shapes or when you want to avoid creating explicit copies of data.\n",
    "\n",
    "### Efficiency in Array Operations:\n",
    "- Performance: Both vectorization and broadcasting utilize highly optimized, pre-compiled C code underneath, which executes operations much faster compared to Python loops.\n",
    "- Clarity and simplicity: Vectorized operations are more concise and easier to read than equivalent Python loop-based operations.\n",
    "- Memory efficiency: Broadcasting allows NumPy to work with arrays of different sizes and shapes without making needless copies of data, thus saving memory.\n",
    "\n",
    "\n",
    "- BELOW ARE THE EXAMPLES TO ILLUSTRATE VECTORIZATION & BROADCASTING:"
   ]
  },
  {
   "cell_type": "code",
   "execution_count": 32,
   "metadata": {},
   "outputs": [
    {
     "data": {
      "text/plain": [
       "array([ 7,  9, 11, 13, 15])"
      ]
     },
     "execution_count": 32,
     "metadata": {},
     "output_type": "execute_result"
    }
   ],
   "source": [
    "# VECTORIZATION\n",
    "\n",
    "import numpy as np\n",
    "\n",
    "a = np.array([1,2,3,4,5])\n",
    "b = np.array([6,7,8,9,10])\n",
    "\n",
    "# vectorized addition\n",
    "\n",
    "c = a + b\n",
    "c"
   ]
  },
  {
   "cell_type": "code",
   "execution_count": 33,
   "metadata": {},
   "outputs": [
    {
     "data": {
      "text/plain": [
       "array([[11, 22, 33],\n",
       "       [14, 25, 36]])"
      ]
     },
     "execution_count": 33,
     "metadata": {},
     "output_type": "execute_result"
    }
   ],
   "source": [
    "# BROADCASTING\n",
    "\n",
    "import numpy as np\n",
    "\n",
    "a = np.array([[1,2,3],\n",
    "              [4,5,6]])\n",
    "\n",
    "b = np.array([10,20,30])\n",
    "\n",
    "# broadcasting the array b to match the shape of a\n",
    "\n",
    "c = a + b\n",
    "\n",
    "c"
   ]
  },
  {
   "cell_type": "markdown",
   "metadata": {},
   "source": [
    "## Practical Questions:"
   ]
  },
  {
   "cell_type": "markdown",
   "metadata": {},
   "source": [
    "### Q1) Create a 3x3 NumPy array with random integers between 1 and 100. Then, interchange its rows and columns."
   ]
  },
  {
   "cell_type": "code",
   "execution_count": 38,
   "metadata": {},
   "outputs": [
    {
     "data": {
      "text/plain": [
       "array([[21, 15, 49],\n",
       "       [15, 21, 74],\n",
       "       [44, 76, 24]], dtype=int32)"
      ]
     },
     "execution_count": 38,
     "metadata": {},
     "output_type": "execute_result"
    }
   ],
   "source": [
    "# creating an array with random integers between 1 to 100\n",
    "\n",
    "import numpy as np\n",
    "\n",
    "arr = np.random.randint(1,101, (3,3))\n",
    "arr"
   ]
  },
  {
   "cell_type": "code",
   "execution_count": 39,
   "metadata": {},
   "outputs": [
    {
     "data": {
      "text/plain": [
       "array([[21, 15, 44],\n",
       "       [15, 21, 76],\n",
       "       [49, 74, 24]], dtype=int32)"
      ]
     },
     "execution_count": 39,
     "metadata": {},
     "output_type": "execute_result"
    }
   ],
   "source": [
    "# now interchanging it's rows and columns using transpose\n",
    "\n",
    "arr_trans = arr.T\n",
    "arr_trans"
   ]
  },
  {
   "cell_type": "markdown",
   "metadata": {},
   "source": [
    "### Q2) Generate a 1D NumPy array with 10 elements. Reshape it into a 2x5 array, then into a 5x2 array."
   ]
  },
  {
   "cell_type": "code",
   "execution_count": 40,
   "metadata": {},
   "outputs": [
    {
     "data": {
      "text/plain": [
       "array([0, 1, 2, 3, 4, 5, 6, 7, 8, 9])"
      ]
     },
     "execution_count": 40,
     "metadata": {},
     "output_type": "execute_result"
    }
   ],
   "source": [
    "# generating a 1D array with 10 elements\n",
    "\n",
    "import numpy as np\n",
    "\n",
    "arr = np.arange(10)\n",
    "\n",
    "arr"
   ]
  },
  {
   "cell_type": "code",
   "execution_count": 41,
   "metadata": {},
   "outputs": [
    {
     "data": {
      "text/plain": [
       "(10,)"
      ]
     },
     "execution_count": 41,
     "metadata": {},
     "output_type": "execute_result"
    }
   ],
   "source": [
    "arr.shape"
   ]
  },
  {
   "cell_type": "code",
   "execution_count": 42,
   "metadata": {},
   "outputs": [
    {
     "data": {
      "text/plain": [
       "array([[0, 1, 2, 3, 4],\n",
       "       [5, 6, 7, 8, 9]])"
      ]
     },
     "execution_count": 42,
     "metadata": {},
     "output_type": "execute_result"
    }
   ],
   "source": [
    "# now reshaping this array into a 2x5 array\n",
    "\n",
    "arr_2x5 = arr.reshape(2,5)\n",
    "\n",
    "arr_2x5"
   ]
  },
  {
   "cell_type": "code",
   "execution_count": 43,
   "metadata": {},
   "outputs": [
    {
     "data": {
      "text/plain": [
       "array([[0, 1],\n",
       "       [2, 3],\n",
       "       [4, 5],\n",
       "       [6, 7],\n",
       "       [8, 9]])"
      ]
     },
     "execution_count": 43,
     "metadata": {},
     "output_type": "execute_result"
    }
   ],
   "source": [
    "# again reshaping the array into 5x2 array\n",
    "\n",
    "arr_5x2 = arr.reshape(5,2)\n",
    "\n",
    "arr_5x2"
   ]
  },
  {
   "cell_type": "markdown",
   "metadata": {},
   "source": [
    "### Q3) Create a 4x4 NumPy array with random float values. Add a border of zeros around it, resulting in a 6x6 array."
   ]
  },
  {
   "cell_type": "code",
   "execution_count": 50,
   "metadata": {},
   "outputs": [
    {
     "name": "stdout",
     "output_type": "stream",
     "text": [
      "Original 4x4 array:\n",
      "[[0.72841995 0.52026143 0.32287324 0.80388194]\n",
      " [0.65825975 0.62786546 0.44870348 0.32218592]\n",
      " [0.32310162 0.86696539 0.94266698 0.30960082]\n",
      " [0.47025944 0.11373191 0.60001834 0.98039941]]\n",
      "\n",
      "Resulting 6x6 array with zeros border:\n",
      "[[0.         0.         0.         0.         0.         0.        ]\n",
      " [0.         0.72841995 0.52026143 0.32287324 0.80388194 0.        ]\n",
      " [0.         0.65825975 0.62786546 0.44870348 0.32218592 0.        ]\n",
      " [0.         0.32310162 0.86696539 0.94266698 0.30960082 0.        ]\n",
      " [0.         0.47025944 0.11373191 0.60001834 0.98039941 0.        ]\n",
      " [0.         0.         0.         0.         0.         0.        ]]\n"
     ]
    }
   ],
   "source": [
    "import numpy as np\n",
    "\n",
    "# Create a 4x4 NumPy array with random float values between 0 and 1\n",
    "arr = np.random.rand(4, 4)\n",
    "\n",
    "print(\"Original 4x4 array:\")\n",
    "print(arr)\n",
    "\n",
    "# Create a new 6x6 array filled with zeros\n",
    "arr_with_zeros = np.zeros((6, 6))\n",
    "\n",
    "# Insert the 4x4 array into the center of the 6x6 array\n",
    "arr_with_zeros[1:5, 1:5] = arr\n",
    "\n",
    "print(\"\\nResulting 6x6 array with zeros border:\")\n",
    "print(arr_with_zeros)\n"
   ]
  },
  {
   "cell_type": "markdown",
   "metadata": {},
   "source": [
    "### Q4) Using NumPy, create an array of integers from 10 to 60 with a step of 5."
   ]
  },
  {
   "cell_type": "code",
   "execution_count": 55,
   "metadata": {},
   "outputs": [
    {
     "data": {
      "text/plain": [
       "array([10, 15, 20, 25, 30, 35, 40, 45, 50, 55, 60])"
      ]
     },
     "execution_count": 55,
     "metadata": {},
     "output_type": "execute_result"
    }
   ],
   "source": [
    "import numpy as np\n",
    "\n",
    "arr = np.arange(10,61,5)\n",
    "arr"
   ]
  },
  {
   "cell_type": "markdown",
   "metadata": {},
   "source": [
    "### Q5) Create a NumPy array of strings ['python', 'numpy', 'pandas']. Apply different case transformations (uppercase, lowercase, title case, etc.) to each element."
   ]
  },
  {
   "cell_type": "code",
   "execution_count": 56,
   "metadata": {},
   "outputs": [
    {
     "data": {
      "text/plain": [
       "array(['python', 'numpy', 'pandas'], dtype='<U6')"
      ]
     },
     "execution_count": 56,
     "metadata": {},
     "output_type": "execute_result"
    }
   ],
   "source": [
    "import numpy as np\n",
    "\n",
    "arr = np.array(['python','numpy','pandas'])\n",
    "\n",
    "arr"
   ]
  },
  {
   "cell_type": "code",
   "execution_count": 58,
   "metadata": {},
   "outputs": [
    {
     "data": {
      "text/plain": [
       "array(['PYTHON', 'NUMPY', 'PANDAS'], dtype='<U6')"
      ]
     },
     "execution_count": 58,
     "metadata": {},
     "output_type": "execute_result"
    }
   ],
   "source": [
    "# Upper case\n",
    "\n",
    "np.char.upper(arr)"
   ]
  },
  {
   "cell_type": "code",
   "execution_count": 60,
   "metadata": {},
   "outputs": [
    {
     "data": {
      "text/plain": [
       "array(['python', 'numpy', 'pandas'], dtype='<U6')"
      ]
     },
     "execution_count": 60,
     "metadata": {},
     "output_type": "execute_result"
    }
   ],
   "source": [
    "# Lower case\n",
    "\n",
    "np.char.lower(arr)"
   ]
  },
  {
   "cell_type": "code",
   "execution_count": 61,
   "metadata": {},
   "outputs": [
    {
     "data": {
      "text/plain": [
       "array(['Python', 'Numpy', 'Pandas'], dtype='<U6')"
      ]
     },
     "execution_count": 61,
     "metadata": {},
     "output_type": "execute_result"
    }
   ],
   "source": [
    "# Title case\n",
    "\n",
    "np.char.title(arr)"
   ]
  },
  {
   "cell_type": "code",
   "execution_count": 62,
   "metadata": {},
   "outputs": [
    {
     "data": {
      "text/plain": [
       "array(['Python', 'Numpy', 'Pandas'], dtype='<U6')"
      ]
     },
     "execution_count": 62,
     "metadata": {},
     "output_type": "execute_result"
    }
   ],
   "source": [
    "# Capitalize\n",
    "\n",
    "np.char.capitalize(arr)"
   ]
  },
  {
   "cell_type": "markdown",
   "metadata": {},
   "source": [
    "### Q6) Generate a NumPy array of words. Insert a space between each character of every word in the array."
   ]
  },
  {
   "cell_type": "code",
   "execution_count": 63,
   "metadata": {},
   "outputs": [
    {
     "data": {
      "text/plain": [
       "array(['school', 'college', 'university'], dtype='<U10')"
      ]
     },
     "execution_count": 63,
     "metadata": {},
     "output_type": "execute_result"
    }
   ],
   "source": [
    "import numpy as np\n",
    "\n",
    "arr = np.array(['school','college','university'])\n",
    "\n",
    "arr"
   ]
  },
  {
   "cell_type": "code",
   "execution_count": 64,
   "metadata": {},
   "outputs": [
    {
     "data": {
      "text/plain": [
       "array(['s c h o o l', 'c o l l e g e', 'u n i v e r s i t y'],\n",
       "      dtype='<U19')"
      ]
     },
     "execution_count": 64,
     "metadata": {},
     "output_type": "execute_result"
    }
   ],
   "source": [
    "# insert a space between each character of every word\n",
    "\n",
    "arr_space = np.array([' '.join(list(word)) for word in arr])\n",
    "\n",
    "arr_space"
   ]
  },
  {
   "cell_type": "markdown",
   "metadata": {},
   "source": [
    "### Q7) Create two 2D NumPy arrays and perform element-wise addition, subtraction, multiplication, and division."
   ]
  },
  {
   "cell_type": "code",
   "execution_count": 67,
   "metadata": {},
   "outputs": [
    {
     "data": {
      "text/plain": [
       "array([[3, 3, 4],\n",
       "       [4, 4, 1],\n",
       "       [1, 2, 4]], dtype=int32)"
      ]
     },
     "execution_count": 67,
     "metadata": {},
     "output_type": "execute_result"
    }
   ],
   "source": [
    "import numpy as np\n",
    "\n",
    "# creating two random 2D arrays, arr1 & arr2\n",
    "\n",
    "arr1 = np.random.randint(1,5,(3,3))\n",
    "\n",
    "arr1"
   ]
  },
  {
   "cell_type": "code",
   "execution_count": 68,
   "metadata": {},
   "outputs": [
    {
     "data": {
      "text/plain": [
       "array([[4, 4, 4],\n",
       "       [2, 3, 1],\n",
       "       [4, 2, 2]], dtype=int32)"
      ]
     },
     "execution_count": 68,
     "metadata": {},
     "output_type": "execute_result"
    }
   ],
   "source": [
    "arr2 = np.random.randint(1,5,(3,3))\n",
    "\n",
    "arr2"
   ]
  },
  {
   "cell_type": "code",
   "execution_count": 69,
   "metadata": {},
   "outputs": [
    {
     "data": {
      "text/plain": [
       "array([[7, 7, 8],\n",
       "       [6, 7, 2],\n",
       "       [5, 4, 6]], dtype=int32)"
      ]
     },
     "execution_count": 69,
     "metadata": {},
     "output_type": "execute_result"
    }
   ],
   "source": [
    "# perform element-wise addition, subtraction, multiplication, and division.\n",
    "\n",
    "# ELEMENT-WISE ADDITION\n",
    "\n",
    "arr1 + arr2"
   ]
  },
  {
   "cell_type": "code",
   "execution_count": 70,
   "metadata": {},
   "outputs": [
    {
     "data": {
      "text/plain": [
       "array([[-1, -1,  0],\n",
       "       [ 2,  1,  0],\n",
       "       [-3,  0,  2]], dtype=int32)"
      ]
     },
     "execution_count": 70,
     "metadata": {},
     "output_type": "execute_result"
    }
   ],
   "source": [
    "# ELEMENT-WISE SUBTRACTION\n",
    "\n",
    "arr1 - arr2"
   ]
  },
  {
   "cell_type": "code",
   "execution_count": 71,
   "metadata": {},
   "outputs": [
    {
     "data": {
      "text/plain": [
       "array([[12, 12, 16],\n",
       "       [ 8, 12,  1],\n",
       "       [ 4,  4,  8]], dtype=int32)"
      ]
     },
     "execution_count": 71,
     "metadata": {},
     "output_type": "execute_result"
    }
   ],
   "source": [
    "# ELEMENT-WISE MULTIPLICATION\n",
    "\n",
    "arr1 * arr2"
   ]
  },
  {
   "cell_type": "code",
   "execution_count": 72,
   "metadata": {},
   "outputs": [
    {
     "data": {
      "text/plain": [
       "array([[0.75      , 0.75      , 1.        ],\n",
       "       [2.        , 1.33333333, 1.        ],\n",
       "       [0.25      , 1.        , 2.        ]])"
      ]
     },
     "execution_count": 72,
     "metadata": {},
     "output_type": "execute_result"
    }
   ],
   "source": [
    "# ELEMENT-WISE DIVISION\n",
    "\n",
    "arr1 / arr2"
   ]
  },
  {
   "cell_type": "markdown",
   "metadata": {},
   "source": [
    "### Q8) Use NumPy to create a 5x5 identity matrix, then extract its diagonal elements."
   ]
  },
  {
   "cell_type": "code",
   "execution_count": 73,
   "metadata": {},
   "outputs": [
    {
     "data": {
      "text/plain": [
       "array([[1., 0., 0., 0., 0.],\n",
       "       [0., 1., 0., 0., 0.],\n",
       "       [0., 0., 1., 0., 0.],\n",
       "       [0., 0., 0., 1., 0.],\n",
       "       [0., 0., 0., 0., 1.]])"
      ]
     },
     "execution_count": 73,
     "metadata": {},
     "output_type": "execute_result"
    }
   ],
   "source": [
    "import numpy as np\n",
    "\n",
    "iden_matrix = np.eye(5)\n",
    "\n",
    "iden_matrix"
   ]
  },
  {
   "cell_type": "code",
   "execution_count": 74,
   "metadata": {},
   "outputs": [
    {
     "data": {
      "text/plain": [
       "array([1., 1., 1., 1., 1.])"
      ]
     },
     "execution_count": 74,
     "metadata": {},
     "output_type": "execute_result"
    }
   ],
   "source": [
    "# EXTRACTING IT'S DIAGONAL ELEMENTS\n",
    "\n",
    "diagonal_elements = np.diag(iden_matrix)\n",
    "\n",
    "diagonal_elements"
   ]
  },
  {
   "cell_type": "markdown",
   "metadata": {},
   "source": [
    "### Q9) Generate a NumPy array of 100 random integers between 0 and 1000. Find and display all prime numbers in this array."
   ]
  },
  {
   "cell_type": "code",
   "execution_count": 76,
   "metadata": {},
   "outputs": [
    {
     "data": {
      "text/plain": [
       "array([328, 813,  67, 826, 146, 665, 143, 253, 369,  65, 554, 712, 972,\n",
       "       234, 668, 449,  56, 208,  32, 318, 164, 969,  38, 581, 743,  71,\n",
       "       675, 496, 948, 931, 329, 741, 574,  40, 668,   0, 561, 609, 706,\n",
       "        83, 914, 610, 441, 656,  87, 717, 337,  88, 582,  34, 189, 894,\n",
       "       583, 575,  61, 763, 483, 118, 540, 112, 443, 267, 200, 921, 269,\n",
       "       289, 458, 908, 907, 787,  71, 165, 190, 684, 734, 107,  81,  10,\n",
       "       597, 798, 447, 431, 824, 204,  13, 870, 921, 805, 426, 917, 543,\n",
       "       645, 822, 701, 964, 384, 342, 320, 447, 310], dtype=int32)"
      ]
     },
     "execution_count": 76,
     "metadata": {},
     "output_type": "execute_result"
    }
   ],
   "source": [
    "import numpy as np\n",
    "\n",
    "# generate a NumPy array of 100 random integers between 0 to 1000\n",
    "arr = np.random.randint(0,1001,(100))\n",
    "\n",
    "arr"
   ]
  },
  {
   "cell_type": "code",
   "execution_count": 77,
   "metadata": {},
   "outputs": [],
   "source": [
    "# DEFINING A FUNCTION TO FIND AND DISPLAY ALL PRIME NUMBERS IN THIS ARRAY\n",
    "\n",
    "def is_prime(num):\n",
    "    if num <= 1:\n",
    "        return False\n",
    "    if num == 2:\n",
    "        return True\n",
    "    if num % 2 == 0:\n",
    "        return False\n",
    "    for i in range(3,int(num**0.5) + 1, 2):\n",
    "        if num % i == 0:\n",
    "            return False\n",
    "    return True"
   ]
  },
  {
   "cell_type": "code",
   "execution_count": 78,
   "metadata": {},
   "outputs": [
    {
     "name": "stdout",
     "output_type": "stream",
     "text": [
      "the prime numbers in the above generated array are:\n",
      "[ 67 449 743  71  83 337  61 443 269 907 787  71 107 431  13 701]\n"
     ]
    }
   ],
   "source": [
    "# USE VERTORIZED FUNCTION TO CHECK PRIME NUMBERS IN THE ABOVE ARRAY\n",
    "\n",
    "vec_is_prime =np.vectorize(is_prime)\n",
    "prime_num_in_array = vec_is_prime(arr)\n",
    "\n",
    "# EXTRACT PRIME NUMBERS FROM THE ARRAY\n",
    "\n",
    "prime_numbers = arr[prime_num_in_array]\n",
    "\n",
    "print(\"the prime numbers in the above generated array are:\")\n",
    "\n",
    "print(prime_numbers)"
   ]
  },
  {
   "cell_type": "markdown",
   "metadata": {},
   "source": [
    "### Q10)  Create a NumPy array representing daily temperatures for a month. Calculate and display the weekly averages."
   ]
  },
  {
   "cell_type": "code",
   "execution_count": 87,
   "metadata": {},
   "outputs": [
    {
     "data": {
      "text/plain": [
       "array([33.5018396 , 29.44429885, 41.67161619, 46.60076362, 43.19301411,\n",
       "       32.36210458, 40.3069118 , 39.86183773, 28.53240451, 41.7717665 ,\n",
       "       36.32701936, 33.50375387, 45.46516107, 27.8454334 , 40.13747692,\n",
       "       36.50049874, 25.20602399, 49.7818546 , 38.30891133, 35.97158172,\n",
       "       41.31459537, 31.99302368, 26.70925127, 34.09141558, 45.07196151,\n",
       "       25.53558878, 25.11969216, 42.86302919])"
      ]
     },
     "execution_count": 87,
     "metadata": {},
     "output_type": "execute_result"
    }
   ],
   "source": [
    "import numpy as np\n",
    "\n",
    "# REPRESENT AN ARRAY WITH DAILY TEMPERATURE FOR A MONTH\n",
    "# ASSUMING A MONTH OF 28 DAYS FOR SIMPLICITY ( SAY FEBRUARY )\n",
    "\n",
    "daily_temp = np.random.uniform(25,50,(28))\n",
    "\n",
    "daily_temp"
   ]
  },
  {
   "cell_type": "code",
   "execution_count": 90,
   "metadata": {},
   "outputs": [
    {
     "data": {
      "text/plain": [
       "array([[33.5018396 , 29.44429885, 41.67161619, 46.60076362, 43.19301411,\n",
       "        32.36210458, 40.3069118 ],\n",
       "       [39.86183773, 28.53240451, 41.7717665 , 36.32701936, 33.50375387,\n",
       "        45.46516107, 27.8454334 ],\n",
       "       [40.13747692, 36.50049874, 25.20602399, 49.7818546 , 38.30891133,\n",
       "        35.97158172, 41.31459537],\n",
       "       [31.99302368, 26.70925127, 34.09141558, 45.07196151, 25.53558878,\n",
       "        25.11969216, 42.86302919]])"
      ]
     },
     "execution_count": 90,
     "metadata": {},
     "output_type": "execute_result"
    }
   ],
   "source": [
    "# WEEKLY TEMPERATURE BASED ON ABOVE DATA\n",
    "\n",
    "# WE HAVE 4 rows (for 4 weeks) and 7 columns (for 7 days in a week)\n",
    "\n",
    "weekly_temp = daily_temp.reshape(4,7)\n",
    "\n",
    "weekly_temp"
   ]
  },
  {
   "cell_type": "code",
   "execution_count": 91,
   "metadata": {},
   "outputs": [
    {
     "data": {
      "text/plain": [
       "array([38.15436411, 36.18676806, 38.17442038, 33.05485174])"
      ]
     },
     "execution_count": 91,
     "metadata": {},
     "output_type": "execute_result"
    }
   ],
   "source": [
    "# NOW CALCULATING WEEKLY AVERAGES\n",
    "\n",
    "weekly_averages = np.mean(weekly_temp, axis = 1)\n",
    "\n",
    "weekly_averages"
   ]
  }
 ],
 "metadata": {
  "kernelspec": {
   "display_name": "Python 3",
   "language": "python",
   "name": "python3"
  },
  "language_info": {
   "codemirror_mode": {
    "name": "ipython",
    "version": 3
   },
   "file_extension": ".py",
   "mimetype": "text/x-python",
   "name": "python",
   "nbconvert_exporter": "python",
   "pygments_lexer": "ipython3",
   "version": "3.11.9"
  }
 },
 "nbformat": 4,
 "nbformat_minor": 2
}
